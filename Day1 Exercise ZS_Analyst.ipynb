{
 "cells": [
  {
   "cell_type": "markdown",
   "id": "7f4592de",
   "metadata": {},
   "source": [
    "## 1. Print Statement\n",
    "Fix the above statement to print the sentence properly without any errors."
   ]
  },
  {
   "cell_type": "code",
   "execution_count": 1,
   "id": "173e378b",
   "metadata": {},
   "outputs": [
    {
     "ename": "SyntaxError",
     "evalue": "invalid syntax (2707835362.py, line 2)",
     "output_type": "error",
     "traceback": [
      "\u001b[1;36m  File \u001b[1;32m\"C:\\Users\\Saurabh\\AppData\\Local\\Temp\\ipykernel_18148\\2707835362.py\"\u001b[1;36m, line \u001b[1;32m2\u001b[0m\n\u001b[1;33m    print(\"Python\" is a \"great\" language\")\u001b[0m\n\u001b[1;37m                        ^\u001b[0m\n\u001b[1;31mSyntaxError\u001b[0m\u001b[1;31m:\u001b[0m invalid syntax\n"
     ]
    }
   ],
   "source": [
    "#Problem 1\n",
    "print(\"Python\" is a \"great\" language\")"
   ]
  },
  {
   "cell_type": "code",
   "execution_count": 2,
   "id": "2f5cf575",
   "metadata": {},
   "outputs": [
    {
     "name": "stdout",
     "output_type": "stream",
     "text": [
      "Python is a 'great' language\n"
     ]
    }
   ],
   "source": [
    "#Problem 2\n",
    "print(\"Python is a 'great' language\")"
   ]
  },
  {
   "cell_type": "code",
   "execution_count": 3,
   "id": "658cdfbd",
   "metadata": {},
   "outputs": [
    {
     "ename": "SyntaxError",
     "evalue": "invalid syntax (2126637978.py, line 2)",
     "output_type": "error",
     "traceback": [
      "\u001b[1;36m  File \u001b[1;32m\"C:\\Users\\Saurabh\\AppData\\Local\\Temp\\ipykernel_18148\\2126637978.py\"\u001b[1;36m, line \u001b[1;32m2\u001b[0m\n\u001b[1;33m    print(\"He said, \"Python is easy to learn.\"\")\u001b[0m\n\u001b[1;37m                     ^\u001b[0m\n\u001b[1;31mSyntaxError\u001b[0m\u001b[1;31m:\u001b[0m invalid syntax\n"
     ]
    }
   ],
   "source": [
    "#Problem 3\n",
    "print(\"He said, \"Python is easy to learn.\"\")"
   ]
  },
  {
   "cell_type": "code",
   "execution_count": 4,
   "id": "5d78945f",
   "metadata": {},
   "outputs": [
    {
     "name": "stdout",
     "output_type": "stream",
     "text": [
      "He said, 'Python' is easy to learn.\n"
     ]
    }
   ],
   "source": [
    "#Problem 3\n",
    "print(\"He said, 'Python' is easy to learn.\")"
   ]
  },
  {
   "cell_type": "code",
   "execution_count": 5,
   "id": "6be1084f",
   "metadata": {},
   "outputs": [
    {
     "ename": "SyntaxError",
     "evalue": "invalid syntax (3904004805.py, line 2)",
     "output_type": "error",
     "traceback": [
      "\u001b[1;36m  File \u001b[1;32m\"C:\\Users\\Saurabh\\AppData\\Local\\Temp\\ipykernel_18148\\3904004805.py\"\u001b[1;36m, line \u001b[1;32m2\u001b[0m\n\u001b[1;33m    print('Let's learn to \"code\" and have fun')\u001b[0m\n\u001b[1;37m               ^\u001b[0m\n\u001b[1;31mSyntaxError\u001b[0m\u001b[1;31m:\u001b[0m invalid syntax\n"
     ]
    }
   ],
   "source": [
    "#Problem 4\n",
    "print('Let's learn to \"code\" and have fun')"
   ]
  },
  {
   "cell_type": "code",
   "execution_count": 6,
   "id": "8b7a1bd5",
   "metadata": {},
   "outputs": [
    {
     "name": "stdout",
     "output_type": "stream",
     "text": [
      "Let's learn to 'code' and have fun\n"
     ]
    }
   ],
   "source": [
    "#Problem 4\n",
    "print(\"Let's learn to 'code' and have fun\")"
   ]
  },
  {
   "cell_type": "raw",
   "id": "9dd38330",
   "metadata": {},
   "source": [
    "Basic Input\n",
    "Write a program that asks for the user's age and prints a message saying \"You are X years old\" \n",
    "(replace X with the input)."
   ]
  },
  {
   "cell_type": "code",
   "execution_count": 9,
   "id": "959d52f0",
   "metadata": {},
   "outputs": [
    {
     "name": "stdout",
     "output_type": "stream",
     "text": [
      "Enter the age : 26\n",
      "You are 26 years old\n"
     ]
    }
   ],
   "source": [
    "X= int(input(\"Enter the age : \"))\n",
    "print(\"You are {} years old\".format(X))"
   ]
  },
  {
   "cell_type": "raw",
   "id": "b0e29670",
   "metadata": {},
   "source": [
    "Simple Arithmetic Operations\n",
    "Write a program that takes two numbers as input and prints their sum,difference, multiplication, and division."
   ]
  },
  {
   "cell_type": "code",
   "execution_count": 12,
   "id": "c662caa9",
   "metadata": {},
   "outputs": [
    {
     "name": "stdout",
     "output_type": "stream",
     "text": [
      "Enter the num1 : 20\n",
      "Enter the num2 : 6\n",
      "Addition :  26\n",
      "difference :  14\n",
      "multiplication :  120\n",
      "division :  3.3333333333333335\n"
     ]
    }
   ],
   "source": [
    "n1= int(input(\"Enter the num1 : \"))\n",
    "n2= int(input(\"Enter the num2 : \"))\n",
    "print(\"Addition : \",n1+n2)\n",
    "print(\"difference : \",n1-n2)\n",
    "print(\"multiplication : \",n1*n2)\n",
    "print(\"division : \",n1/n2)"
   ]
  },
  {
   "cell_type": "raw",
   "id": "10266716",
   "metadata": {},
   "source": [
    "Concatenation of Strings\n",
    "Write a program that takes two strings as input and prints them concatenated."
   ]
  },
  {
   "cell_type": "code",
   "execution_count": 18,
   "id": "0b944c41",
   "metadata": {},
   "outputs": [
    {
     "name": "stdout",
     "output_type": "stream",
     "text": [
      "Enter first String : sou\n",
      "Enter second String : kum\n",
      "sou  kum\n",
      "sou kum\n"
     ]
    }
   ],
   "source": [
    "st1= input(\"Enter first String : \")\n",
    "st2= input(\"Enter second String : \")\n",
    "print(st1,\"\",st2)\n",
    "print(st1+\" \"+st2)"
   ]
  },
  {
   "cell_type": "raw",
   "id": "0497afc2",
   "metadata": {},
   "source": [
    "# String Length\n",
    "Write a program that takes a string and prints its length."
   ]
  },
  {
   "cell_type": "code",
   "execution_count": 19,
   "id": "797ab6f6",
   "metadata": {},
   "outputs": [
    {
     "name": "stdout",
     "output_type": "stream",
     "text": [
      "Enter first String : sourabh\n",
      "7\n"
     ]
    }
   ],
   "source": [
    "st1= input(\"Enter first String : \")\n",
    "print(len(st1))"
   ]
  },
  {
   "cell_type": "raw",
   "id": "251c6a9d",
   "metadata": {},
   "source": [
    "Escape Characters\n",
    "Write a program to print the following on the console:\n",
    "Hello,\n",
    "\"Python\""
   ]
  },
  {
   "cell_type": "code",
   "execution_count": 20,
   "id": "93b89d6f",
   "metadata": {},
   "outputs": [
    {
     "ename": "NameError",
     "evalue": "name 'Hello' is not defined",
     "output_type": "error",
     "traceback": [
      "\u001b[1;31m---------------------------------------------------------------------------\u001b[0m",
      "\u001b[1;31mNameError\u001b[0m                                 Traceback (most recent call last)",
      "\u001b[1;32m~\\AppData\\Local\\Temp\\ipykernel_18148\\466638465.py\u001b[0m in \u001b[0;36m<module>\u001b[1;34m\u001b[0m\n\u001b[1;32m----> 1\u001b[1;33m \u001b[0mprint\u001b[0m\u001b[1;33m(\u001b[0m\u001b[0mHello\u001b[0m\u001b[1;33m,\u001b[0m\u001b[1;34m\"Python\"\u001b[0m\u001b[1;33m)\u001b[0m\u001b[1;33m\u001b[0m\u001b[1;33m\u001b[0m\u001b[0m\n\u001b[0m",
      "\u001b[1;31mNameError\u001b[0m: name 'Hello' is not defined"
     ]
    }
   ],
   "source": [
    "print([Hello,\"Python\"])"
   ]
  },
  {
   "cell_type": "code",
   "execution_count": null,
   "id": "8db3597e",
   "metadata": {},
   "outputs": [],
   "source": []
  }
 ],
 "metadata": {
  "kernelspec": {
   "display_name": "Python 3 (ipykernel)",
   "language": "python",
   "name": "python3"
  },
  "language_info": {
   "codemirror_mode": {
    "name": "ipython",
    "version": 3
   },
   "file_extension": ".py",
   "mimetype": "text/x-python",
   "name": "python",
   "nbconvert_exporter": "python",
   "pygments_lexer": "ipython3",
   "version": "3.9.13"
  }
 },
 "nbformat": 4,
 "nbformat_minor": 5
}
