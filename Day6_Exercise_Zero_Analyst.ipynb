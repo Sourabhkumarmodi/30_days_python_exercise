{
 "cells": [
  {
   "cell_type": "markdown",
   "id": "56d1ffce",
   "metadata": {},
   "source": [
    "# Exercise 1: Even or Odd\n",
    "Write a program that takes an integer input from the user and checks whether the number is even or odd.\n",
    "\n",
    "#### Example:\n",
    "#### Input: 7\n",
    "#### Output: Odd"
   ]
  },
  {
   "cell_type": "code",
   "execution_count": 1,
   "id": "574f705d",
   "metadata": {},
   "outputs": [
    {
     "name": "stdout",
     "output_type": "stream",
     "text": [
      "enter a number : 7\n",
      "Odd\n"
     ]
    }
   ],
   "source": [
    "num=int(input(\"enter a number : \"))\n",
    "if num%2==0:\n",
    "    print(\"Even\")    \n",
    "else:\n",
    "    print(\"Odd\")"
   ]
  },
  {
   "cell_type": "markdown",
   "id": "6a5ab49e",
   "metadata": {},
   "source": [
    "# Exercise 2: Check Voting Eligibility\n",
    "Write a program that asks for the user's age and checks if the person is eligible to vote (age 18 or older).\n",
    "\n",
    "#### Example:\n",
    "#### Input: 20\n",
    "#### Output: You are eligible to vote."
   ]
  },
  {
   "cell_type": "code",
   "execution_count": 6,
   "id": "0868435c",
   "metadata": {},
   "outputs": [
    {
     "name": "stdout",
     "output_type": "stream",
     "text": [
      "Enter your Age : 16\n",
      "You are not eligible to vote.\n",
      " but, After 2 Year you are eligible for vote.\n"
     ]
    }
   ],
   "source": [
    "age = int(input(\"Enter your Age : \"))\n",
    "if age>=18:\n",
    "    print(\"You are eligible to vote.\")\n",
    "else:\n",
    "    print(\"You are not eligible to vote.\")\n",
    "    print(\" but, After\",18-age,\"Year you are eligible for vote.\")"
   ]
  },
  {
   "cell_type": "markdown",
   "id": "75cf1d54",
   "metadata": {},
   "source": [
    "# Exercise 3: Number Classification\n",
    "Write a program that takes an integer from the user and prints whether the number is positive, negative, or zero.\n",
    "\n",
    "#### Example:\n",
    "#### Input: -5\n",
    "#### Output: Negative"
   ]
  },
  {
   "cell_type": "code",
   "execution_count": 10,
   "id": "9c7909c5",
   "metadata": {},
   "outputs": [
    {
     "name": "stdout",
     "output_type": "stream",
     "text": [
      "Enter a number : -5\n",
      "Negative\n"
     ]
    }
   ],
   "source": [
    "number = int(input(\"Enter a number : \"))\n",
    "if number<0:\n",
    "    print(\"Negative\")\n",
    "elif number==0:\n",
    "    print(\"zero\")\n",
    "else:\n",
    "    print(\"Positive\")"
   ]
  },
  {
   "cell_type": "markdown",
   "id": "d094f3d5",
   "metadata": {},
   "source": [
    "# Exercise 4: Grade Classification\n",
    "Write a program that takes a student's score (0-100) and prints their grade based on the following rules:\n",
    "\n",
    "* Score >= 90: Grade A\n",
    "* Score >= 75: Grade B\n",
    "* Score >= 50: Grade C\n",
    "* Score < 50: Grade F\n",
    "##### Example:\n",
    "##### Input: 85\n",
    "##### Output: Grade B"
   ]
  },
  {
   "cell_type": "code",
   "execution_count": 31,
   "id": "4be0186e",
   "metadata": {},
   "outputs": [
    {
     "name": "stdout",
     "output_type": "stream",
     "text": [
      "Enter the score : 85\n",
      "B\n"
     ]
    }
   ],
   "source": [
    "score = int(input(\"Enter the score : \"))\n",
    "if score>=90:\n",
    "    print(\"A\")\n",
    "elif score>=75 :\n",
    "    print(\"B\")\n",
    "elif score>=50:\n",
    "    print(\"C\")\n",
    "else:\n",
    "    print(\"F\")"
   ]
  },
  {
   "cell_type": "markdown",
   "id": "35b27c2e",
   "metadata": {},
   "source": [
    "# Exercise 5: Temperature Check\n",
    "Write a program that asks the user for the temperature in degrees Celsius and prints whether it is \"Cold\", \"Warm\", or \"Hot\" based on the following conditions:\n",
    "\n",
    "* Below 15°C: Cold\n",
    "* 15°C to 30°C: Warm\n",
    "* Above 30°C: Hot\n",
    "##### Example:\n",
    "##### Input: 28\n",
    "##### Output: Warm"
   ]
  },
  {
   "cell_type": "code",
   "execution_count": 37,
   "id": "95c2e520",
   "metadata": {},
   "outputs": [
    {
     "name": "stdout",
     "output_type": "stream",
     "text": [
      "Enter the temperature in degrees Celsius : 28\n",
      "Warm\n"
     ]
    }
   ],
   "source": [
    "temp = int(input(\"Enter the temperature in degrees Celsius : \"))\n",
    "if temp < 15:\n",
    "    print(\"Cold\")\n",
    "elif temp<30 or temp>=15:\n",
    "    print(\"Warm\")\n",
    "else:\n",
    "    print(\"Hot\")"
   ]
  },
  {
   "cell_type": "markdown",
   "id": "24a6b559",
   "metadata": {},
   "source": [
    "# Exercise 6: Maximum of Three Numbers\n",
    "Write a program that takes three numbers as input and prints the largest of the three.\n",
    "\n",
    "##### Example:\n",
    "##### Input: 5, 12, 7\n",
    "##### Output: The largest number is 12"
   ]
  },
  {
   "cell_type": "code",
   "execution_count": 40,
   "id": "692efedb",
   "metadata": {},
   "outputs": [
    {
     "name": "stdout",
     "output_type": "stream",
     "text": [
      "enter first number : 26\n",
      "enter second number : 12\n",
      "enter third number : 85\n",
      "The Largest number is 85\n"
     ]
    }
   ],
   "source": [
    "n1 = int(input(\"enter first number : \"))\n",
    "n2 = int(input(\"enter second number : \"))\n",
    "n3 = int(input(\"enter third number : \"))\n",
    "if n1>n2 and n1>n3:\n",
    "    print(\"The Largest number is \",n1)\n",
    "elif n2>n1 and n2>n3:\n",
    "    print(\"The Largest number is \",n2)\n",
    "else:\n",
    "    print(\"The Largest number is :\",n3)"
   ]
  },
  {
   "cell_type": "markdown",
   "id": "f4bf5870",
   "metadata": {},
   "source": [
    "# Exercise 7: Leap Year Check\n",
    "Write a program that asks the user for a year and checks whether it's a leap year or not. A year is a leap year if:\n",
    "\n",
    "* It is divisible by 4\n",
    "* But not divisible by 100 unless it is also divisible by 400\n",
    "##### Example:\n",
    "##### Input: 2024\n",
    "##### Output: Leap Year"
   ]
  },
  {
   "cell_type": "code",
   "execution_count": 45,
   "id": "40018cc1",
   "metadata": {},
   "outputs": [
    {
     "name": "stdout",
     "output_type": "stream",
     "text": [
      "Enter the Year :2024\n",
      "Leap year\n"
     ]
    }
   ],
   "source": [
    "year = int(input(\"Enter the Year :\"))\n",
    "if (year%4==0 and year%100!=0) or (year%400==0) :\n",
    "    print(\"Leap year\")\n",
    "else:\n",
    "    print(\"Not\")"
   ]
  },
  {
   "cell_type": "markdown",
   "id": "03b20a95",
   "metadata": {},
   "source": [
    "# Exercise 8: Traffic Light Action\n",
    "Write a program that simulates a traffic light. The user inputs the color of the traffic light (\"Red\", \"Yellow\", or \"Green\") and the program prints the corresponding action:\n",
    "\n",
    "* \"Red\" → \"Stop\"\n",
    "* \"Yellow\" → \"Slow Down\"\n",
    "* \"Green\" → \"Go\"\n",
    "# Example:\n",
    "# Input: Red\n",
    "# Output: Stop"
   ]
  },
  {
   "cell_type": "code",
   "execution_count": 51,
   "id": "9044cf06",
   "metadata": {},
   "outputs": [
    {
     "name": "stdout",
     "output_type": "stream",
     "text": [
      "Enter the traffic light (Red, Yellow, or Green) :red\n",
      "Stop\n"
     ]
    }
   ],
   "source": [
    "light = input(\"Enter the traffic light (Red, Yellow, or Green) :\")\n",
    "light=light.strip().lower()\n",
    "if light == \"red\":\n",
    "    print(\"Stop\")\n",
    "elif light == \"yellow\":\n",
    "    print(\"Slow Down\")\n",
    "elif light == \"green\":\n",
    "    print(\"Go\")\n",
    "else:\n",
    "    print(\"Provide Correct color\")"
   ]
  },
  {
   "cell_type": "markdown",
   "id": "9fc8e81a",
   "metadata": {},
   "source": [
    "# Exercise 9: Number Comparison\n",
    "Write a program that takes two numbers from the user and prints whether the first number is greater than, less than, or equal to the second number.\n",
    "\n",
    "##### Example:\n",
    "##### Input: 10, 15\n",
    "##### Output: 10 is less than 15"
   ]
  },
  {
   "cell_type": "code",
   "execution_count": 60,
   "id": "8e08b344",
   "metadata": {},
   "outputs": [
    {
     "name": "stdout",
     "output_type": "stream",
     "text": [
      "Enter first number : 15\n",
      "Enter second number : 10\n",
      "10 is less than 15\n"
     ]
    }
   ],
   "source": [
    "num1 = int(input(\"Enter first number : \"))\n",
    "num2 = int(input(\"Enter second number : \"))\n",
    "if num1>num2:\n",
    "    print(num2,\"is less than\",num1)\n",
    "else:\n",
    "    print(num1,\"is less than\",num2)"
   ]
  },
  {
   "cell_type": "markdown",
   "id": "f058b882",
   "metadata": {},
   "source": [
    "# Exercise 10: Day of the Week\n",
    "Write a program that takes an integer input (1 to 7) and prints the corresponding day of the week. For example:\n",
    "\n",
    "* 1 → Monday\n",
    "* 2 → Tuesday\n",
    "* 3 → Wednesday\n",
    "* 4 → Thursday\n",
    "* 5 → Friday\n",
    "* 6 → Saturday\n",
    "* 7 → Sunday\n",
    "#### Example:\n",
    "#### Input: 4\n",
    "#### Output: Thursday"
   ]
  },
  {
   "cell_type": "code",
   "execution_count": 62,
   "id": "014bf16e",
   "metadata": {},
   "outputs": [
    {
     "name": "stdout",
     "output_type": "stream",
     "text": [
      "enter the day in between 1 to 7 : 4\n",
      "Thursday\n"
     ]
    }
   ],
   "source": [
    "day= int(input( \"enter the day in between 1 to 7 : \"))\n",
    "if day==1:\n",
    "    print(\"Monday\")\n",
    "elif day==2:\n",
    "    print(\"Tuesday\")\n",
    "elif day==3:\n",
    "    print(\"Wednesday\")\n",
    "elif day==4:\n",
    "    print(\"Thursday\")\n",
    "elif day==5:\n",
    "    print(\"Friday\")\n",
    "elif day==6:\n",
    "    print(\"Saturday\")    \n",
    "else:\n",
    "    print(\"Sunday\")"
   ]
  },
  {
   "cell_type": "code",
   "execution_count": null,
   "id": "817225c9",
   "metadata": {},
   "outputs": [],
   "source": []
  }
 ],
 "metadata": {
  "kernelspec": {
   "display_name": "Python 3 (ipykernel)",
   "language": "python",
   "name": "python3"
  },
  "language_info": {
   "codemirror_mode": {
    "name": "ipython",
    "version": 3
   },
   "file_extension": ".py",
   "mimetype": "text/x-python",
   "name": "python",
   "nbconvert_exporter": "python",
   "pygments_lexer": "ipython3",
   "version": "3.9.13"
  }
 },
 "nbformat": 4,
 "nbformat_minor": 5
}
