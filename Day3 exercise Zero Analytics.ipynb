{
 "cells": [
  {
   "cell_type": "markdown",
   "id": "70886aac",
   "metadata": {},
   "source": [
    "#### 1. First Three Letters of a Name\n",
    "\n",
    "* Take a user's full name as input, and print the first three letters of their first name and the first three letters of their last name."
   ]
  },
  {
   "cell_type": "code",
   "execution_count": 1,
   "id": "9471c72e",
   "metadata": {},
   "outputs": [
    {
     "name": "stdout",
     "output_type": "stream",
     "text": [
      "Enter the Name: sourabh\n",
      "sou\n"
     ]
    }
   ],
   "source": [
    "name = input(\"Enter the Name: \")\n",
    "print(name[0:3])"
   ]
  },
  {
   "cell_type": "markdown",
   "id": "102783c9",
   "metadata": {},
   "source": [
    "#### 2. Reverse a Word\n",
    "\n",
    "* Take a word as input and print the reversed word using slicing."
   ]
  },
  {
   "cell_type": "code",
   "execution_count": 2,
   "id": "ac0390d0",
   "metadata": {},
   "outputs": [
    {
     "name": "stdout",
     "output_type": "stream",
     "text": [
      "enter the string: sourabh\n",
      "reverse word:  hbaruos\n"
     ]
    }
   ],
   "source": [
    "word=input(\"enter the string: \")\n",
    "print(\"reverse word: \",word[::-1])"
   ]
  },
  {
   "cell_type": "markdown",
   "id": "0d7c8942",
   "metadata": {},
   "source": [
    "#### 3. Extract the Middle Character\n",
    "\n",
    "* Take an odd-length string as input and print the middle character using slicing."
   ]
  },
  {
   "cell_type": "code",
   "execution_count": 12,
   "id": "f753b3b5",
   "metadata": {},
   "outputs": [
    {
     "name": "stdout",
     "output_type": "stream",
     "text": [
      "enter the string: saket\n",
      "k\n"
     ]
    }
   ],
   "source": [
    "st= input(\"enter the string: \")\n",
    "l=int((len(st))/2)\n",
    "print(st[l])"
   ]
  },
  {
   "cell_type": "markdown",
   "id": "ac425048",
   "metadata": {},
   "source": [
    "#### 4. Count Characters (Excluding Spaces)\n",
    "\n",
    "* Take a sentence as input and count the number of characters, excluding spaces."
   ]
  },
  {
   "cell_type": "code",
   "execution_count": 15,
   "id": "1708285a",
   "metadata": {},
   "outputs": [
    {
     "name": "stdout",
     "output_type": "stream",
     "text": [
      "kuch bhi likh do: Hello World\n",
      "11\n"
     ]
    }
   ],
   "source": [
    "char=input(\"kuch bhi likh do: \")\n",
    "char=char.strip()\n",
    "print(len(char))"
   ]
  },
  {
   "cell_type": "markdown",
   "id": "5abd8563",
   "metadata": {},
   "source": [
    "#### 5. Modify User Input\n",
    "\n",
    "* Ask the user for their favorite color and output the color in lowercase, uppercase, and with spaces removed."
   ]
  },
  {
   "cell_type": "code",
   "execution_count": 16,
   "id": "1e477172",
   "metadata": {},
   "outputs": [
    {
     "name": "stdout",
     "output_type": "stream",
     "text": [
      "enter your favorite color:   Red\n",
      "  red\n",
      "  RED\n",
      "Red\n"
     ]
    }
   ],
   "source": [
    "user_input=input(\"enter your favorite color: \")\n",
    "print(user_input.lower())\n",
    "print(user_input.upper())\n",
    "print(user_input.strip())"
   ]
  },
  {
   "cell_type": "markdown",
   "id": "d37e15e9",
   "metadata": {},
   "source": [
    "#### 6. Username Generator\n",
    "\n",
    "* Take the user's full name and generate a username using the first three letters of the first name and the last three letters of the last name."
   ]
  },
  {
   "cell_type": "code",
   "execution_count": 25,
   "id": "3cfd98d6",
   "metadata": {},
   "outputs": [
    {
     "name": "stdout",
     "output_type": "stream",
     "text": [
      "Enter your full name: Sourabh Kumar\n",
      "Your generated username is: Soumar\n"
     ]
    }
   ],
   "source": [
    "# Take the full name as input from the user\n",
    "full_name = input(\"Enter your full name: \")\n",
    "\n",
    "# Split the name into first and last name\n",
    "name_parts = full_name.split()\n",
    "\n",
    "# Extract the first three letters of the first name\n",
    "first_name_part = name_parts[0][:3]\n",
    "\n",
    "# Extract the last three letters of the last name\n",
    "last_name_part = name_parts[-1][-3:]\n",
    "\n",
    "# Combine both parts to generate the username\n",
    "username = first_name_part + last_name_part\n",
    "\n",
    "# Print the generated username\n",
    "print(f\"Your generated username is: {username}\")\n"
   ]
  },
  {
   "cell_type": "code",
   "execution_count": 26,
   "id": "aed23682",
   "metadata": {},
   "outputs": [
    {
     "name": "stdout",
     "output_type": "stream",
     "text": [
      "enter f name: sourabh\n",
      "enter l name: kumar\n",
      "soumar\n"
     ]
    }
   ],
   "source": [
    "f_name=input(\"enter f name: \")\n",
    "l_name=input(\"enter l name: \")\n",
    "use_name=f_name[0:3]+l_name[-3:]\n",
    "print(use_name)"
   ]
  },
  {
   "cell_type": "markdown",
   "id": "5797af0d",
   "metadata": {},
   "source": [
    "#### 7. Strip Leading and Trailing Spaces\n",
    "\n",
    "* Take a string with extra spaces and remove all the leading and trailing spaces using strip()."
   ]
  },
  {
   "cell_type": "code",
   "execution_count": 28,
   "id": "2cdb084e",
   "metadata": {},
   "outputs": [
    {
     "name": "stdout",
     "output_type": "stream",
     "text": [
      "enter the string including some spaces :   sourabh  \n",
      "sourabh\n"
     ]
    }
   ],
   "source": [
    "st = input(\"enter the string including some spaces : \")\n",
    "print(st.strip())"
   ]
  },
  {
   "cell_type": "markdown",
   "id": "ab2522ad",
   "metadata": {},
   "source": [
    "#### 8. Uppercase Initials\n",
    "\n",
    "* Take a full name as input and print the initials in uppercase."
   ]
  },
  {
   "cell_type": "code",
   "execution_count": 29,
   "id": "1dc2328d",
   "metadata": {},
   "outputs": [
    {
     "name": "stdout",
     "output_type": "stream",
     "text": [
      "enter your full name: sourabh bansal\n",
      "Sourabh bansal\n"
     ]
    }
   ],
   "source": [
    "full_name=input(\"enter your full name: \")\n",
    "print(full_name.capitalize())\n"
   ]
  },
  {
   "cell_type": "markdown",
   "id": "0146486b",
   "metadata": {},
   "source": [
    "#### 9. Check if a Word is a Palindrome\n",
    "\n",
    "* Take a word as input and check whether it is a palindrome."
   ]
  },
  {
   "cell_type": "code",
   "execution_count": 30,
   "id": "9d11cc6a",
   "metadata": {},
   "outputs": [
    {
     "name": "stdout",
     "output_type": "stream",
     "text": [
      "enter anythingracar\n",
      "palindrom\n"
     ]
    }
   ],
   "source": [
    "word=input(\"enter anything\")\n",
    "if word==word[::-1]:\n",
    "    print(\"palindrom\")\n",
    "else:\n",
    "    print(\"not\")"
   ]
  },
  {
   "cell_type": "markdown",
   "id": "f7120f2a",
   "metadata": {},
   "source": [
    "#### 10. Find the Last Three Characters\n",
    "\n",
    "* Take a word as input and print the last three characters using slicing."
   ]
  },
  {
   "cell_type": "code",
   "execution_count": 31,
   "id": "08a52653",
   "metadata": {},
   "outputs": [
    {
     "name": "stdout",
     "output_type": "stream",
     "text": [
      "Enter a word: sourabh\n",
      "abh\n"
     ]
    }
   ],
   "source": [
    "word = input(\"Enter a word: \")\n",
    "print(word[-3:])"
   ]
  },
  {
   "cell_type": "code",
   "execution_count": null,
   "id": "74b29b46",
   "metadata": {},
   "outputs": [],
   "source": []
  }
 ],
 "metadata": {
  "kernelspec": {
   "display_name": "Python 3 (ipykernel)",
   "language": "python",
   "name": "python3"
  },
  "language_info": {
   "codemirror_mode": {
    "name": "ipython",
    "version": 3
   },
   "file_extension": ".py",
   "mimetype": "text/x-python",
   "name": "python",
   "nbconvert_exporter": "python",
   "pygments_lexer": "ipython3",
   "version": "3.9.13"
  }
 },
 "nbformat": 4,
 "nbformat_minor": 5
}
