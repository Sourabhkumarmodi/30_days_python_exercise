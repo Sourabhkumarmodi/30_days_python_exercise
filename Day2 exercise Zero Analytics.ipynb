{
 "cells": [
  {
   "cell_type": "markdown",
   "id": "66e558f7",
   "metadata": {},
   "source": [
    "#### 1. Declare two variables, x and y, with values 20 and 4, respectively. Calculate their sum, difference, product, and quotient."
   ]
  },
  {
   "cell_type": "code",
   "execution_count": 1,
   "id": "756c0bdb",
   "metadata": {},
   "outputs": [
    {
     "name": "stdout",
     "output_type": "stream",
     "text": [
      "24\n",
      "16\n",
      "80\n",
      "5.0\n"
     ]
    }
   ],
   "source": [
    "x,y=20,4\n",
    "print(x+y)\n",
    "print(x-y)\n",
    "print(x*y)\n",
    "print(x/y)"
   ]
  },
  {
   "cell_type": "markdown",
   "id": "735e9c01",
   "metadata": {},
   "source": [
    "#### Write a Python program that asks the user for their age and checks if they are eligible to vote (age >= 18)."
   ]
  },
  {
   "cell_type": "code",
   "execution_count": 2,
   "id": "67720edd",
   "metadata": {},
   "outputs": [
    {
     "name": "stdout",
     "output_type": "stream",
     "text": [
      "Enter your age: 20\n",
      "you are eligible for vote\n"
     ]
    }
   ],
   "source": [
    "age=int(input(\"Enter your age: \"))\n",
    "if age>=18:\n",
    "    print(\"you are eligible for vote\")\n",
    "else:\n",
    "    print(\"you are not eligible for vote\")"
   ]
  },
  {
   "cell_type": "markdown",
   "id": "7fcafdde",
   "metadata": {},
   "source": [
    "#### Create a variable pi with the value 3.14159. Use it to calculate and print the area of a circle with radius 7."
   ]
  },
  {
   "cell_type": "code",
   "execution_count": 5,
   "id": "be78689c",
   "metadata": {},
   "outputs": [
    {
     "name": "stdout",
     "output_type": "stream",
     "text": [
      "Area of circle : 153.93804002589985\n"
     ]
    }
   ],
   "source": [
    "import math\n",
    "pi=math.pi\n",
    "pi\n",
    "r=7\n",
    "print(\"Area of circle :\",pi*r*r)"
   ]
  },
  {
   "cell_type": "markdown",
   "id": "c692161e",
   "metadata": {},
   "source": [
    "#### Write a program that takes two numbers from the user and prints whether the first number is greater than, less than, or equal to the second number."
   ]
  },
  {
   "cell_type": "code",
   "execution_count": 7,
   "id": "b7a5eae3",
   "metadata": {},
   "outputs": [
    {
     "name": "stdout",
     "output_type": "stream",
     "text": [
      "first number : 21\n",
      "second number : 26\n",
      "number 2 is greater then number 1\n"
     ]
    }
   ],
   "source": [
    "n=int(input(\"first number : \"))\n",
    "n2=int(input(\"second number : \"))\n",
    "if n>n2:\n",
    "    print(\"number 1 is greater then number 2\")\n",
    "elif n2>n:\n",
    "    print(\"number 2 is greater then number 1\")\n",
    "else:\n",
    "    print(\"number 1 is equal to number 2\")"
   ]
  },
  {
   "cell_type": "markdown",
   "id": "4b1d3de7",
   "metadata": {},
   "source": [
    "#### Declare a Boolean variable called is_raining and set it to True or False. Use it to print \"Take an umbrella\" if it is raining, otherwise print \"Enjoy the sunshine\"."
   ]
  },
  {
   "cell_type": "code",
   "execution_count": 13,
   "id": "013f6334",
   "metadata": {},
   "outputs": [
    {
     "name": "stdout",
     "output_type": "stream",
     "text": [
      "Take an umbrella\n"
     ]
    }
   ],
   "source": [
    "\n",
    "is_raining=True\n",
    "\n",
    "if is_raining==True:\n",
    "    print(\"Take an umbrella\")\n",
    "else:\n",
    "    print(\"Enjoy the sunshine\")"
   ]
  },
  {
   "cell_type": "code",
   "execution_count": 9,
   "id": "6d1da080",
   "metadata": {},
   "outputs": [
    {
     "data": {
      "text/plain": [
       "'Num'"
      ]
     },
     "execution_count": 9,
     "metadata": {},
     "output_type": "execute_result"
    }
   ],
   "source": [
    "a=\"num\"\n",
    "a.capitalize()"
   ]
  },
  {
   "cell_type": "code",
   "execution_count": 11,
   "id": "bb6fa809",
   "metadata": {},
   "outputs": [
    {
     "data": {
      "text/plain": [
       "'True'"
      ]
     },
     "execution_count": 11,
     "metadata": {},
     "output_type": "execute_result"
    }
   ],
   "source": [
    "is_raining"
   ]
  },
  {
   "cell_type": "markdown",
   "id": "2e533c0b",
   "metadata": {},
   "source": [
    "#### Write a Python program that takes two numbers from the user and prints the result of their division. Make sure to handle the case when the second number is zero."
   ]
  },
  {
   "cell_type": "code",
   "execution_count": 17,
   "id": "b14d4f3d",
   "metadata": {},
   "outputs": [
    {
     "name": "stdout",
     "output_type": "stream",
     "text": [
      "enter the first number: 23\n",
      "enter the second number: 6\n",
      "3.8333333333333335\n"
     ]
    }
   ],
   "source": [
    "num1=float(input(\"enter the first number: \"))\n",
    "num2=float(input(\"enter the second number: \"))\n",
    "try:\n",
    "    res=num1/num2\n",
    "    print(res)\n",
    "except ZeroDivisionError:\n",
    "    print(\"Division by zero not allowed......!\")"
   ]
  },
  {
   "cell_type": "markdown",
   "id": "68c07f3f",
   "metadata": {},
   "source": [
    "#### Write a Python program that converts Celsius to Fahrenheit. Formula: F = (C * 9/5) + 32."
   ]
  },
  {
   "cell_type": "code",
   "execution_count": 18,
   "id": "d3e05d4a",
   "metadata": {},
   "outputs": [
    {
     "name": "stdout",
     "output_type": "stream",
     "text": [
      "Enter the Celsius: 23.5\n",
      "74.3\n"
     ]
    }
   ],
   "source": [
    "C=float(input(\"Enter the Celsius: \"))\n",
    "F=(C*9/5)+32\n",
    "print(F)"
   ]
  },
  {
   "cell_type": "markdown",
   "id": "ae44bfe2",
   "metadata": {},
   "source": [
    "#### Create a Python program that takes a number from the user and checks whether it is even or odd."
   ]
  },
  {
   "cell_type": "code",
   "execution_count": 19,
   "id": "9d621661",
   "metadata": {},
   "outputs": [
    {
     "name": "stdout",
     "output_type": "stream",
     "text": [
      "enter the number: 25\n",
      "Odd number\n"
     ]
    }
   ],
   "source": [
    "num=int(input(\"enter the number: \"))\n",
    "if num%2==0:\n",
    "    print(\"Even number\")\n",
    "else:\n",
    "    print(\"Odd number\")"
   ]
  },
  {
   "cell_type": "markdown",
   "id": "f521a5ba",
   "metadata": {},
   "source": [
    "#### Write a program that takes a string from the user and prints whether it is a palindrome (the same forwards and backwards)."
   ]
  },
  {
   "cell_type": "code",
   "execution_count": 31,
   "id": "ce3ddb41",
   "metadata": {},
   "outputs": [
    {
     "name": "stdout",
     "output_type": "stream",
     "text": [
      "enter any string :recer\n",
      "Palindrom string\n"
     ]
    }
   ],
   "source": [
    "string=input(\"enter any string :\")\n",
    "if string==string[::-1]:\n",
    "    print(\"Palindrom string\")\n",
    "else:\n",
    "    print(\"not palindrom string\")\n"
   ]
  },
  {
   "cell_type": "code",
   "execution_count": 27,
   "id": "b5b64546",
   "metadata": {},
   "outputs": [
    {
     "name": "stdout",
     "output_type": "stream",
     "text": [
      "Enter a number: 256\n",
      "The reversed number is: 652\n"
     ]
    }
   ],
   "source": [
    "# Take input from the user\n",
    "number = input(\"Enter a number: \")\n",
    "\n",
    "# Reverse the number using the reversed() function and join the result\n",
    "reversed_number = ''.join(reversed(number))\n",
    "\n",
    "# Print the reversed number\n",
    "print(f\"The reversed number is: {reversed_number}\")\n"
   ]
  },
  {
   "cell_type": "code",
   "execution_count": null,
   "id": "19dbb93a",
   "metadata": {},
   "outputs": [],
   "source": []
  }
 ],
 "metadata": {
  "kernelspec": {
   "display_name": "Python 3 (ipykernel)",
   "language": "python",
   "name": "python3"
  },
  "language_info": {
   "codemirror_mode": {
    "name": "ipython",
    "version": 3
   },
   "file_extension": ".py",
   "mimetype": "text/x-python",
   "name": "python",
   "nbconvert_exporter": "python",
   "pygments_lexer": "ipython3",
   "version": "3.9.13"
  }
 },
 "nbformat": 4,
 "nbformat_minor": 5
}
