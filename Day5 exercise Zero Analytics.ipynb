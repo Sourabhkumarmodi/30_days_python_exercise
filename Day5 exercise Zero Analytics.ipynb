{
 "cells": [
  {
   "cell_type": "markdown",
   "id": "993f155b",
   "metadata": {},
   "source": [
    "#### Exercise 1: Dictionary Creation\n",
    "Create a dictionary called student_info that contains the following key-value pairs:\n",
    "\n",
    "* Name: \"John Doe\"\n",
    "* Age: 20\n",
    "* Major: \"Computer Science\"\n",
    "* GPA: 3.8"
   ]
  },
  {
   "cell_type": "code",
   "execution_count": 1,
   "id": "67eccc03",
   "metadata": {},
   "outputs": [],
   "source": [
    "student_info = {'Name':'John Doe',\n",
    "               'Age':20,\n",
    "               'Major':'Computer Science',\n",
    "               'GPA':3.8}"
   ]
  },
  {
   "cell_type": "code",
   "execution_count": 2,
   "id": "098c2ff4",
   "metadata": {},
   "outputs": [
    {
     "data": {
      "text/plain": [
       "{'Name': 'John Doe', 'Age': 20, 'Major': 'Computer Science', 'GPA': 3.8}"
      ]
     },
     "execution_count": 2,
     "metadata": {},
     "output_type": "execute_result"
    }
   ],
   "source": [
    "student_info"
   ]
  },
  {
   "cell_type": "markdown",
   "id": "7f33c936",
   "metadata": {},
   "source": [
    "#### Exercise 2: Accessing Dictionary Values\n",
    "Using the student_info dictionary from Exercise 1, access and print:\n",
    "\n",
    "* The student's name.\n",
    "* The student's GPA."
   ]
  },
  {
   "cell_type": "code",
   "execution_count": 8,
   "id": "e0c7e460",
   "metadata": {},
   "outputs": [
    {
     "data": {
      "text/plain": [
       "('John Doe', 3.8)"
      ]
     },
     "execution_count": 8,
     "metadata": {},
     "output_type": "execute_result"
    }
   ],
   "source": [
    "student_info['Name'],student_info['GPA']"
   ]
  },
  {
   "cell_type": "markdown",
   "id": "dfcdccef",
   "metadata": {},
   "source": [
    "#### Exercise 3: Adding a Key-Value Pair\n",
    "Add a new key-value pair to the student_info dictionary:\n",
    "\n",
    "* \"Graduation Year\": 2025\n",
    "#Task: Print the updated dictionary."
   ]
  },
  {
   "cell_type": "code",
   "execution_count": 9,
   "id": "cb088af0",
   "metadata": {},
   "outputs": [],
   "source": [
    "student_info['Graduation Year']=2025"
   ]
  },
  {
   "cell_type": "code",
   "execution_count": 10,
   "id": "816b15af",
   "metadata": {},
   "outputs": [
    {
     "data": {
      "text/plain": [
       "{'Name': 'John Doe',\n",
       " 'Age': 20,\n",
       " 'Major': 'Computer Science',\n",
       " 'GPA': 3.8,\n",
       " 'Graduation Year': 2025}"
      ]
     },
     "execution_count": 10,
     "metadata": {},
     "output_type": "execute_result"
    }
   ],
   "source": [
    "student_info"
   ]
  },
  {
   "cell_type": "markdown",
   "id": "e58eb962",
   "metadata": {},
   "source": [
    "#### Exercise 4: Modifying a Value\n",
    "Change the student's GPA in student_info to 3.9."
   ]
  },
  {
   "cell_type": "code",
   "execution_count": 11,
   "id": "4b28b12c",
   "metadata": {},
   "outputs": [
    {
     "data": {
      "text/plain": [
       "{'Name': 'John Doe',\n",
       " 'Age': 20,\n",
       " 'Major': 'Computer Science',\n",
       " 'GPA': 3.9,\n",
       " 'Graduation Year': 2025}"
      ]
     },
     "execution_count": 11,
     "metadata": {},
     "output_type": "execute_result"
    }
   ],
   "source": [
    "student_info['GPA']=3.9\n",
    "student_info"
   ]
  },
  {
   "cell_type": "markdown",
   "id": "f464b739",
   "metadata": {},
   "source": [
    "#### Exercise 5: Using the get() Method\n",
    "Using the get() method, check if the dictionary student_info contains the key \"Minor\". If the key is not present, return \"Not specified\"."
   ]
  },
  {
   "cell_type": "code",
   "execution_count": 13,
   "id": "9e929b0f",
   "metadata": {},
   "outputs": [],
   "source": [
    "student_info.get(\"Minor\")"
   ]
  },
  {
   "cell_type": "code",
   "execution_count": 14,
   "id": "bb77a94c",
   "metadata": {},
   "outputs": [
    {
     "data": {
      "text/plain": [
       "{'Name': 'John Doe',\n",
       " 'Age': 20,\n",
       " 'Major': 'Computer Science',\n",
       " 'GPA': 3.9,\n",
       " 'Graduation Year': 2025}"
      ]
     },
     "execution_count": 14,
     "metadata": {},
     "output_type": "execute_result"
    }
   ],
   "source": [
    "student_info"
   ]
  },
  {
   "cell_type": "markdown",
   "id": "0de3f9e3",
   "metadata": {},
   "source": [
    "#### Exercise 6: Removing a Key-Value Pair\n",
    "Remove the \"Major\" key from the student_info dictionary using the pop() method.\n",
    "\n"
   ]
  },
  {
   "cell_type": "code",
   "execution_count": 15,
   "id": "4a1a5d85",
   "metadata": {},
   "outputs": [
    {
     "data": {
      "text/plain": [
       "'Computer Science'"
      ]
     },
     "execution_count": 15,
     "metadata": {},
     "output_type": "execute_result"
    }
   ],
   "source": [
    "student_info.pop('Major')"
   ]
  },
  {
   "cell_type": "code",
   "execution_count": 16,
   "id": "cc6f92e2",
   "metadata": {},
   "outputs": [
    {
     "data": {
      "text/plain": [
       "{'Name': 'John Doe', 'Age': 20, 'GPA': 3.9, 'Graduation Year': 2025}"
      ]
     },
     "execution_count": 16,
     "metadata": {},
     "output_type": "execute_result"
    }
   ],
   "source": [
    "student_info"
   ]
  },
  {
   "cell_type": "markdown",
   "id": "bee404c9",
   "metadata": {},
   "source": [
    "#### Exercise 7: Using keys() and values() Methods\n",
    "Using the student_info dictionary, print:\n",
    "\n",
    "* All the keys in the dictionary.\n",
    "* All the values in the dictionary."
   ]
  },
  {
   "cell_type": "code",
   "execution_count": 17,
   "id": "d0b77b75",
   "metadata": {},
   "outputs": [
    {
     "data": {
      "text/plain": [
       "dict_keys(['Name', 'Age', 'GPA', 'Graduation Year'])"
      ]
     },
     "execution_count": 17,
     "metadata": {},
     "output_type": "execute_result"
    }
   ],
   "source": [
    "student_info.keys()"
   ]
  },
  {
   "cell_type": "code",
   "execution_count": 18,
   "id": "bc79f71d",
   "metadata": {},
   "outputs": [
    {
     "data": {
      "text/plain": [
       "dict_values(['John Doe', 20, 3.9, 2025])"
      ]
     },
     "execution_count": 18,
     "metadata": {},
     "output_type": "execute_result"
    }
   ],
   "source": [
    "student_info.values()"
   ]
  },
  {
   "cell_type": "markdown",
   "id": "519d9447",
   "metadata": {},
   "source": [
    "#### Exercise 8: Dictionary of Lists\n",
    "Create a dictionary called class_grades where each student has a list of their grades. For example:\n"
   ]
  },
  {
   "cell_type": "code",
   "execution_count": 19,
   "id": "538de9b8",
   "metadata": {},
   "outputs": [],
   "source": [
    "class_grades = {\n",
    "    \"Alice\": [85, 90, 88],\n",
    "    \"Bob\": [92, 88, 79],\n",
    "    \"Charlie\": [88, 76, 85]\n",
    "}"
   ]
  },
  {
   "cell_type": "code",
   "execution_count": 20,
   "id": "3adb60b0",
   "metadata": {},
   "outputs": [
    {
     "data": {
      "text/plain": [
       "[85, 90, 88]"
      ]
     },
     "execution_count": 20,
     "metadata": {},
     "output_type": "execute_result"
    }
   ],
   "source": [
    "class_grades['Alice']"
   ]
  },
  {
   "cell_type": "markdown",
   "id": "7acb3efc",
   "metadata": {},
   "source": [
    "#### Exercise 9: Nested Dictionary\n",
    "Create a dictionary called library where each book has information like title, author, and year. Example:"
   ]
  },
  {
   "cell_type": "code",
   "execution_count": 21,
   "id": "e1090b47",
   "metadata": {},
   "outputs": [],
   "source": [
    "library = {\n",
    "    \"Book1\": {\"title\": \"To Kill a Mockingbird\", \"author\": \"Harper Lee\", \"year\": 1960},\n",
    "    \"Book2\": {\"title\": \"1984\", \"author\": \"George Orwell\", \"year\": 1949}\n",
    "}"
   ]
  },
  {
   "cell_type": "code",
   "execution_count": 22,
   "id": "358cc546",
   "metadata": {},
   "outputs": [
    {
     "data": {
      "text/plain": [
       "'1984'"
      ]
     },
     "execution_count": 22,
     "metadata": {},
     "output_type": "execute_result"
    }
   ],
   "source": [
    "library['Book2']['title']"
   ]
  },
  {
   "cell_type": "markdown",
   "id": "2e782258",
   "metadata": {},
   "source": [
    "#### Exercise 10: Merging Dictionaries\n",
    "You have two dictionaries:"
   ]
  },
  {
   "cell_type": "raw",
   "id": "4d0bae39",
   "metadata": {},
   "source": [
    "Task: Merge dict2 into dict1 using the update() method and print the merged dictionary."
   ]
  },
  {
   "cell_type": "code",
   "execution_count": 23,
   "id": "4a8c2382",
   "metadata": {},
   "outputs": [],
   "source": [
    "dict1 = {\"a\": 1, \"b\": 2}\n",
    "dict2 = {\"c\": 3, \"d\": 4}"
   ]
  },
  {
   "cell_type": "code",
   "execution_count": 24,
   "id": "96520469",
   "metadata": {},
   "outputs": [],
   "source": [
    "dict1.update(dict2)"
   ]
  },
  {
   "cell_type": "code",
   "execution_count": 25,
   "id": "5b0d2998",
   "metadata": {},
   "outputs": [
    {
     "data": {
      "text/plain": [
       "{'a': 1, 'b': 2, 'c': 3, 'd': 4}"
      ]
     },
     "execution_count": 25,
     "metadata": {},
     "output_type": "execute_result"
    }
   ],
   "source": [
    "dict1"
   ]
  },
  {
   "cell_type": "code",
   "execution_count": null,
   "id": "1afa1ef6",
   "metadata": {},
   "outputs": [],
   "source": []
  }
 ],
 "metadata": {
  "kernelspec": {
   "display_name": "Python 3 (ipykernel)",
   "language": "python",
   "name": "python3"
  },
  "language_info": {
   "codemirror_mode": {
    "name": "ipython",
    "version": 3
   },
   "file_extension": ".py",
   "mimetype": "text/x-python",
   "name": "python",
   "nbconvert_exporter": "python",
   "pygments_lexer": "ipython3",
   "version": "3.9.13"
  }
 },
 "nbformat": 4,
 "nbformat_minor": 5
}
