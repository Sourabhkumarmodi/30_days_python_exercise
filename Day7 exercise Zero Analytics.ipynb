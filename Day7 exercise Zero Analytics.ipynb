{
 "cells": [
  {
   "cell_type": "raw",
   "id": "a7e56a3e",
   "metadata": {},
   "source": [
    "Exercise: Write a for loop that iterates through numbers 1 to 10. Use the continue statement to skip printing the number 5."
   ]
  },
  {
   "cell_type": "code",
   "execution_count": 3,
   "id": "97ed18e3",
   "metadata": {},
   "outputs": [
    {
     "name": "stdout",
     "output_type": "stream",
     "text": [
      "1 2 3 4 6 7 8 9 10 "
     ]
    }
   ],
   "source": [
    "for i in range(1,11):\n",
    "    if i==5:\n",
    "        continue\n",
    "    print(i,end=\" \")    "
   ]
  },
  {
   "cell_type": "code",
   "execution_count": 4,
   "id": "2d1a71ae",
   "metadata": {},
   "outputs": [
    {
     "name": "stdout",
     "output_type": "stream",
     "text": [
      "{'Apple16': 16548, 'Apple17': 175895}\n"
     ]
    }
   ],
   "source": [
    "apple={'Apple16':16548,\n",
    "      'Apple17':175895}\n",
    "print(apple)"
   ]
  },
  {
   "cell_type": "code",
   "execution_count": 6,
   "id": "54f2b651",
   "metadata": {},
   "outputs": [
    {
     "name": "stdout",
     "output_type": "stream",
     "text": [
      "Product name : Apple16 and price : 16548\n",
      "Product name : Apple17 and price : 175895\n"
     ]
    }
   ],
   "source": [
    "for i,x in apple.items():\n",
    "    print(\"Product name :\",i,\"and price :\",x)"
   ]
  },
  {
   "cell_type": "code",
   "execution_count": 5,
   "id": "0bb3fc94",
   "metadata": {},
   "outputs": [
    {
     "data": {
      "text/plain": [
       "dict_items([('Apple16', 16548), ('Apple17', 175895)])"
      ]
     },
     "execution_count": 5,
     "metadata": {},
     "output_type": "execute_result"
    }
   ],
   "source": [
    "apple.items()"
   ]
  },
  {
   "cell_type": "code",
   "execution_count": 7,
   "id": "7eb6934b",
   "metadata": {},
   "outputs": [
    {
     "name": "stdout",
     "output_type": "stream",
     "text": [
      "apple\n",
      "banana\n"
     ]
    }
   ],
   "source": [
    "fruits = [\"apple\", \"banana\", \"cherry\", \"mango\"]\n",
    "\n",
    "for fru in fruits:\n",
    "    if fru == \"cherry\":\n",
    "        break\n",
    "    print(fru)\n",
    "    "
   ]
  },
  {
   "cell_type": "markdown",
   "id": "9c106e9c",
   "metadata": {},
   "source": [
    "## 1. Print Numbers 1 to 10 (For Loop)\n",
    "Write a program that prints numbers from 1 to 10 using a for loop.\n",
    "\n"
   ]
  },
  {
   "cell_type": "code",
   "execution_count": 9,
   "id": "fb75b824",
   "metadata": {},
   "outputs": [
    {
     "name": "stdout",
     "output_type": "stream",
     "text": [
      "1 2 3 4 5 6 7 8 9 10 "
     ]
    }
   ],
   "source": [
    "for i in range(1,11):\n",
    "    print(i,end=\" \")"
   ]
  },
  {
   "cell_type": "markdown",
   "id": "d687352c",
   "metadata": {},
   "source": [
    "## 2. Print Numbers 1 to 10 (While Loop)\n",
    "Write a program that prints numbers from 1 to 10 using a while loop."
   ]
  },
  {
   "cell_type": "code",
   "execution_count": 11,
   "id": "07d5f016",
   "metadata": {},
   "outputs": [
    {
     "name": "stdout",
     "output_type": "stream",
     "text": [
      "1 2 3 4 5 6 7 8 9 10 "
     ]
    }
   ],
   "source": [
    "n=1\n",
    "while n<=10:\n",
    "    print(n,end=\" \")\n",
    "    \n",
    "    n=n+1"
   ]
  },
  {
   "cell_type": "markdown",
   "id": "e3a0653d",
   "metadata": {},
   "source": [
    "## 3. Sum of First 10 Natural Numbers (For Loop)\n",
    "Write a program to calculate the sum of the first 10 natural numbers using a for loop."
   ]
  },
  {
   "cell_type": "code",
   "execution_count": 14,
   "id": "a4b3a8b8",
   "metadata": {},
   "outputs": [
    {
     "name": "stdout",
     "output_type": "stream",
     "text": [
      "The sum of the first 10 natural numbers is: 55\n"
     ]
    }
   ],
   "source": [
    "sum=0\n",
    "for i in range(1,11):\n",
    "    sum=sum+i\n",
    "print(\"The sum of the first 10 natural numbers is:\",sum)\n",
    "    "
   ]
  },
  {
   "cell_type": "markdown",
   "id": "d0bcd199",
   "metadata": {},
   "source": [
    "## 4. Sum of First 10 Natural Numbers (While Loop)\n",
    "Write a program to calculate the sum of the first 10 natural numbers using a while loop"
   ]
  },
  {
   "cell_type": "code",
   "execution_count": 18,
   "id": "cda3065d",
   "metadata": {},
   "outputs": [
    {
     "name": "stdout",
     "output_type": "stream",
     "text": [
      "The sum of the first 10 natural numbers is: 55\n"
     ]
    }
   ],
   "source": [
    "n=1\n",
    "sum=0\n",
    "while n<=10:\n",
    "    sum+=n\n",
    "    n+=1\n",
    "print(\"The sum of the first 10 natural numbers is:\",sum)    "
   ]
  },
  {
   "cell_type": "markdown",
   "id": "1b565f42",
   "metadata": {},
   "source": [
    "## 5. Print Even Numbers Between 1 and 20 (For Loop)\n",
    "Write a program that prints all even numbers between 1 and 20 using a for loop."
   ]
  },
  {
   "cell_type": "code",
   "execution_count": 20,
   "id": "babd6745",
   "metadata": {},
   "outputs": [
    {
     "name": "stdout",
     "output_type": "stream",
     "text": [
      "2 4 6 8 10 12 14 16 18 20 "
     ]
    }
   ],
   "source": [
    "for i in range(1,21):\n",
    "    if i%2==0:\n",
    "        print(i,end=\" \")"
   ]
  },
  {
   "cell_type": "markdown",
   "id": "b1efddcc",
   "metadata": {},
   "source": [
    "## 6. Print Odd Numbers Between 1 and 20 (While Loop)\n",
    "Write a program that prints all odd numbers between 1 and 20 using a while loop."
   ]
  },
  {
   "cell_type": "code",
   "execution_count": 24,
   "id": "b337da0d",
   "metadata": {},
   "outputs": [
    {
     "name": "stdout",
     "output_type": "stream",
     "text": [
      "1 3 5 7 9 11 13 15 17 19 "
     ]
    }
   ],
   "source": [
    "n=1\n",
    "while n<=20:\n",
    "    if n%2==1:\n",
    "        print(n,end=\" \")\n",
    "    n+=1"
   ]
  },
  {
   "cell_type": "markdown",
   "id": "c14e7977",
   "metadata": {},
   "source": [
    "## 7. Print Each Character of a String (For Loop)\n",
    "Write a program that takes a string as input and prints each character on a new line using a for loop."
   ]
  },
  {
   "cell_type": "code",
   "execution_count": 25,
   "id": "326ca534",
   "metadata": {},
   "outputs": [
    {
     "name": "stdout",
     "output_type": "stream",
     "text": [
      "Enter any string : sourabh\n",
      "s\n",
      "o\n",
      "u\n",
      "r\n",
      "a\n",
      "b\n",
      "h\n"
     ]
    }
   ],
   "source": [
    "string=input(\"Enter any string : \")\n",
    "for i in string:\n",
    "    print(i)"
   ]
  },
  {
   "cell_type": "markdown",
   "id": "f1d46046",
   "metadata": {},
   "source": [
    "## 8. Multiplication Table (For Loop)\n",
    "Write a program that prints the multiplication table of a number entered by the user using a for loop."
   ]
  },
  {
   "cell_type": "code",
   "execution_count": 28,
   "id": "f2036ec4",
   "metadata": {},
   "outputs": [
    {
     "name": "stdout",
     "output_type": "stream",
     "text": [
      "enter any number :7\n",
      "7 * 1 = 7\n",
      "7 * 2 = 14\n",
      "7 * 3 = 21\n",
      "7 * 4 = 28\n",
      "7 * 5 = 35\n",
      "7 * 6 = 42\n",
      "7 * 7 = 49\n",
      "7 * 8 = 56\n",
      "7 * 9 = 63\n",
      "7 * 10 = 70\n"
     ]
    }
   ],
   "source": [
    "n=int(input(\"enter any number :\"))\n",
    "for i in range(1,11):\n",
    "    print(n ,\"*\",i,\"=\",n*i)"
   ]
  },
  {
   "cell_type": "markdown",
   "id": "7d0c79bc",
   "metadata": {},
   "source": [
    "## 9. Guess the Secret Number (While Loop)\n",
    "Write a guessing game where the user has to guess a secret number between 1 and 10 using a while loop. The program should keep asking until they guess correctly."
   ]
  },
  {
   "cell_type": "code",
   "execution_count": 31,
   "id": "07b97d61",
   "metadata": {},
   "outputs": [
    {
     "name": "stdout",
     "output_type": "stream",
     "text": [
      "Guess the secret number between 1 and 10: 6\n",
      "Too high! Try again.\n",
      "Guess the secret number between 1 and 10: 6\n",
      "Too high! Try again.\n",
      "Guess the secret number between 1 and 10: 4\n",
      "Too high! Try again.\n",
      "Guess the secret number between 1 and 10: 3\n",
      "Congratulations! You guessed it right.\n"
     ]
    }
   ],
   "source": [
    "import random\n",
    "\n",
    "# Generate a secret number between 1 and 10\n",
    "secret_number = random.randint(1, 10)\n",
    "\n",
    "# Initialize the user's guess to None (or any value that isn't the secret number)\n",
    "guess = None\n",
    "\n",
    "# Keep asking the user until they guess the correct number\n",
    "while guess != secret_number:\n",
    "    guess = int(input(\"Guess the secret number between 1 and 10: \"))\n",
    "    \n",
    "    if guess < secret_number:\n",
    "        print(\"Too low! Try again.\")\n",
    "    elif guess > secret_number:\n",
    "        print(\"Too high! Try again.\")\n",
    "    else:\n",
    "        print(\"Congratulations! You guessed it right.\")\n"
   ]
  },
  {
   "cell_type": "markdown",
   "id": "7da9a586",
   "metadata": {},
   "source": [
    "## 10. Count Down from 10 to 1 (While Loop)\n",
    "Write a program that counts down from 10 to 1 using a while loop."
   ]
  },
  {
   "cell_type": "code",
   "execution_count": 30,
   "id": "44e4624f",
   "metadata": {},
   "outputs": [
    {
     "name": "stdout",
     "output_type": "stream",
     "text": [
      "10\n",
      "9\n",
      "8\n",
      "7\n",
      "6\n",
      "5\n",
      "4\n",
      "3\n",
      "2\n",
      "1\n"
     ]
    }
   ],
   "source": [
    "n=10\n",
    "while n>=1:\n",
    "    print(n)\n",
    "    n-=1    \n",
    "    "
   ]
  },
  {
   "cell_type": "code",
   "execution_count": null,
   "id": "788073ee",
   "metadata": {},
   "outputs": [],
   "source": []
  }
 ],
 "metadata": {
  "kernelspec": {
   "display_name": "Python 3 (ipykernel)",
   "language": "python",
   "name": "python3"
  },
  "language_info": {
   "codemirror_mode": {
    "name": "ipython",
    "version": 3
   },
   "file_extension": ".py",
   "mimetype": "text/x-python",
   "name": "python",
   "nbconvert_exporter": "python",
   "pygments_lexer": "ipython3",
   "version": "3.9.13"
  }
 },
 "nbformat": 4,
 "nbformat_minor": 5
}
